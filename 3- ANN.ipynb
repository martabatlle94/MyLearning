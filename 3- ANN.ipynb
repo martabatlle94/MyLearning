{
 "cells": [
  {
   "cell_type": "code",
   "execution_count": 1,
   "metadata": {},
   "outputs": [],
   "source": [
    "import os\n",
    "import warnings\n",
    "warnings.simplefilter(action = 'ignore', category=FutureWarning)\n",
    "warnings.filterwarnings('ignore')\n",
    "def ignore_warn(*args, **kwargs):\n",
    "    pass\n",
    "\n",
    "warnings.warn = ignore_warn #ignore annoying warning (from sklearn and seaborn)\n",
    "import numpy as np\n",
    "import pandas as pd\n",
    "pd.set_option('display.float_format', lambda x: '{:.3f}'.format(x)) #Limiting floats output to 3 decimal points\n",
    "from matplotlib import pyplot as plt\n",
    "%matplotlib inline\n",
    "import seaborn as sns\n",
    "sns.set(style=\"ticks\", color_codes=True, font_scale=1.5)\n",
    "color = sns.color_palette()\n",
    "sns.set_style('darkgrid')\n",
    "import pylab \n",
    "from sklearn import metrics\n",
    "from scipy import stats\n",
    "from matplotlib import pyplot\n",
    "from sklearn.model_selection import GridSearchCV, cross_val_score, KFold, cross_val_predict, train_test_split\n",
    "from sklearn.metrics import mean_absolute_error, mean_squared_error, r2_score\n",
    "import tensorflow as tf\n",
    "from numpy import loadtxt\n",
    "from tensorflow.keras.models import Sequential\n",
    "from tensorflow.keras.layers import Dense\n",
    "from tensorflow.keras.layers import Dropout\n",
    "from tensorflow.keras.layers import Flatten\n",
    "from tensorflow.keras.callbacks import EarlyStopping\n",
    "from tensorflow.keras import backend\n",
    "from sklearn.preprocessing import StandardScaler\n",
    "from tensorflow.keras.optimizers import SGD"
   ]
  },
  {
   "cell_type": "code",
   "execution_count": 2,
   "metadata": {},
   "outputs": [],
   "source": [
    "tablin = pd.read_csv(r'C:\\Users\\Marta\\Desktop\\Rotación 2 SBD\\BackUp_Proyecto\\Python Scripts\\Modelo evolución precios\\Datos - copia - Marta\\tabla_modelos.csv',\n",
    "                   sep=';', engine=\"python\", decimal=',', encoding=\"latin1\")"
   ]
  },
  {
   "cell_type": "code",
   "execution_count": 3,
   "metadata": {},
   "outputs": [],
   "source": [
    "tablin= tablin.drop(columns=['matricula','latitud','longitud','Actualizacion','Index',\n",
    "'Provincia', 'PIB per cápita_log', 'Hipotecas','Transacciones inmobiliarias', 'Parque_viviendas_log', 'Euribor', 'Tasa de dudosidad_log','Tasa desempleo',\n",
    "'Año','Year','parque_cat', 'tasa_cat','valor promedio m2 fomento','Valor metro cuadrado_log','linear_regression','ridge_regression','Codigo_Postal', \n",
    "'IMPTOTAL actualizado','Precio m2 actualizado','Precio m2', 'Valor metro cuadrado',\n",
    "        'CONTAMINACION_TERRENO', 'CONTAMINACION_CONSTRUCCION', 'CONTAMINACION_OTROS', 'EDIF_LICENCIA_COD', 'EDIF_USO_POLIVALENTE',\n",
    "       'CONTAMINACION_ACUSTICA','CONTAMINACION_AMBIENTAL','VIV_DISTR_NUM_ASCENSORES', 'VIV_INST_TERRAZA_TENDEDERO',\n",
    "         'Transacciones_inmobiliarias_log','Tasa de dudosidad', 'VIV_INST_AGUA_CALIENTE', 'SUPADAPT', 'SUBTIPO_COD',\n",
    "        'CONTAMINACION_TERRENO', 'CONTAMINACION_CONSTRUCCION', 'CONTAMINACION_OTROS', 'EDIF_VIV_REGI_LEGAL_DESC',\n",
    "        'EDIF_LICENCIA_COD','EDIF_USO_POLIVALENTE','VIV_INST_COMU_TENIS_PADEL', 'UBICACION_INMUEBLE_COD_ENC',\n",
    "                            'UBICACION_INMUEBLE_COD_DEB','Establecimientos_OSM','Parque viviendas', 'PIB per cápita', 'Euribor_log',\n",
    "                            'CARAC_SINGULARES','VIV_INST_COMU_OTRAS_DEPORT', 'UBICACION_ZONA_COD_DEB'])\n",
    "# a partir de la indentación, son variables que no aportaban nada al modelo y las debería quitar a posteriori\n",
    "#es lo mismo usar los valores de linear_regression que todas las variables"
   ]
  },
  {
   "cell_type": "code",
   "execution_count": null,
   "metadata": {},
   "outputs": [],
   "source": [
    "#Crear variables dummies \n",
    "hi= tablin.loc[:,['UBICACION_MUNICIPIO_DESC',\n",
    "'UBICACION_ZONA_COD','UBICACION_INMUEBLE_COD','Municipio']]\n",
    "dummy = pd.get_dummies(hi)\n",
    "tablin = pd.concat([tablin, dummy], axis=1)\n",
    "tablin = tablin.drop(['UBICACION_MUNICIPIO_DESC',\n",
    "'UBICACION_ZONA_COD','UBICACION_INMUEBLE_COD','Municipio'], axis=1)"
   ]
  },
  {
   "cell_type": "code",
   "execution_count": 4,
   "metadata": {},
   "outputs": [],
   "source": [
    "#Recodificar\n",
    "tablin= tablin.replace('SI', '1')\n",
    "tablin= tablin.replace('NO', '0')\n",
    "tablin= tablin.replace('LIBRE', 'Libre' )\n",
    "tablin= tablin.replace('ESPECIAL', 'Especial')"
   ]
  },
  {
   "cell_type": "code",
   "execution_count": 5,
   "metadata": {},
   "outputs": [],
   "source": [
    "tablin= tablin.drop(columns=['Fecha','MATRICULA'])\n",
    "tablin['VIV_SUPERF_TERRAZA']= [1 if x>0 else x for x in (tablin['VIV_SUPERF_TERRAZA'])] #codificar: tiene terraza o no"
   ]
  },
  {
   "cell_type": "code",
   "execution_count": 6,
   "metadata": {},
   "outputs": [],
   "source": [
    "continuous_cols= ['SUPERF_ADOPTADA','Hipotecas_log','Tasa desempleo_log']"
   ]
  },
  {
   "cell_type": "code",
   "execution_count": 7,
   "metadata": {},
   "outputs": [],
   "source": [
    "features = tablin[continuous_cols]\n",
    "scaler = StandardScaler().fit(features.values)\n",
    "features = scaler.transform(features.values)\n",
    "tablin[continuous_cols] = features"
   ]
  },
  {
   "cell_type": "code",
   "execution_count": 8,
   "metadata": {},
   "outputs": [],
   "source": [
    "tablin=pd.DataFrame(tablin)"
   ]
  },
  {
   "cell_type": "code",
   "execution_count": 9,
   "metadata": {},
   "outputs": [],
   "source": [
    "#split = 2     train,test = data[:split,:],data[split:,:]\n",
    "train, test = train_test_split(tablin, test_size = 0.33, random_state = 0)"
   ]
  },
  {
   "cell_type": "code",
   "execution_count": 10,
   "metadata": {},
   "outputs": [],
   "source": [
    "#  X, y = data[:, :-1], data[:, -1]   all rows and all columns up to the last; all rows and the last column\n",
    "x_train = train.drop(columns=['IMPTOTAL'])\n",
    "y_train = train.loc[:,'IMPTOTAL']\n",
    "x_train = np.asarray(x_train)\n",
    "y_train = np.asarray(y_train).reshape(len(y_train),1)\n",
    "x_test = test.drop(columns=['IMPTOTAL'])\n",
    "y_test = test.loc[:,'IMPTOTAL']\n",
    "x_test = np.asarray(x_test)\n",
    "y_test = np.asarray(y_test).reshape(len(y_test),1)\n",
    "# some libraries require a one-dimensional array of output variables (y) be shaped as a two-dimensional array with one column "
   ]
  },
  {
   "cell_type": "code",
   "execution_count": 11,
   "metadata": {},
   "outputs": [
    {
     "data": {
      "text/plain": [
       "(28125, 282)"
      ]
     },
     "execution_count": 11,
     "metadata": {},
     "output_type": "execute_result"
    }
   ],
   "source": [
    "train.shape"
   ]
  },
  {
   "cell_type": "code",
   "execution_count": 12,
   "metadata": {},
   "outputs": [
    {
     "name": "stdout",
     "output_type": "stream",
     "text": [
      "Train on 22500 samples, validate on 5625 samples\n",
      "Epoch 1/150\n",
      "22500/22500 [==============================] - 1s 31us/sample - loss: 167535.5477 - mse: 42400583680.0000 - mae: 167535.6250 - val_loss: 158089.7107 - val_mse: 38411329536.0000 - val_mae: 158089.7188\n",
      "Epoch 2/150\n",
      "22500/22500 [==============================] - 0s 22us/sample - loss: 138752.9829 - mse: 33666990080.0000 - mae: 138752.9219 - val_loss: 104990.2169 - val_mse: 23782721536.0000 - val_mae: 104990.1953\n",
      "Epoch 3/150\n",
      "22500/22500 [==============================] - 0s 22us/sample - loss: 86814.8716 - mse: 19116982272.0000 - mae: 86814.8594 - val_loss: 75482.8874 - val_mse: 14781295616.0000 - val_mae: 75482.8984\n",
      "Epoch 4/150\n",
      "22500/22500 [==============================] - 0s 21us/sample - loss: 77176.9160 - mse: 15253495808.0000 - mae: 77176.9375 - val_loss: 74665.9884 - val_mse: 13949741056.0000 - val_mae: 74665.9688\n",
      "Epoch 5/150\n",
      "22500/22500 [==============================] - 0s 21us/sample - loss: 76807.8213 - mse: 14910543872.0000 - mae: 76807.8125 - val_loss: 74438.6306 - val_mse: 13765139456.0000 - val_mae: 74438.6250\n",
      "Epoch 6/150\n",
      "22500/22500 [==============================] - 0s 21us/sample - loss: 76558.2232 - mse: 14776056832.0000 - mae: 76558.2422 - val_loss: 74169.4873 - val_mse: 13773028352.0000 - val_mae: 74169.5078\n",
      "Epoch 7/150\n",
      "22500/22500 [==============================] - 1s 23us/sample - loss: 76290.3367 - mse: 14708722688.0000 - mae: 76290.3516 - val_loss: 73914.8241 - val_mse: 13698214912.0000 - val_mae: 73914.8047\n",
      "Epoch 8/150\n",
      "22500/22500 [==============================] - 0s 22us/sample - loss: 76021.2050 - mse: 14639655936.0000 - mae: 76021.2344 - val_loss: 73663.2458 - val_mse: 13538586624.0000 - val_mae: 73663.2422\n",
      "Epoch 9/150\n",
      "22500/22500 [==============================] - 0s 21us/sample - loss: 75733.7734 - mse: 14483196928.0000 - mae: 75733.8203 - val_loss: 73378.2159 - val_mse: 13560427520.0000 - val_mae: 73378.2188\n",
      "Epoch 10/150\n",
      "22500/22500 [==============================] - 0s 21us/sample - loss: 75436.0846 - mse: 14423203840.0000 - mae: 75436.0703 - val_loss: 73097.2673 - val_mse: 13386839040.0000 - val_mae: 73097.2656\n",
      "Epoch 11/150\n",
      "22500/22500 [==============================] - 0s 21us/sample - loss: 75121.5614 - mse: 14285341696.0000 - mae: 75121.5312 - val_loss: 72789.0507 - val_mse: 13363243008.0000 - val_mae: 72789.0469\n",
      "Epoch 12/150\n",
      "22500/22500 [==============================] - 0s 21us/sample - loss: 74798.0445 - mse: 14206959616.0000 - mae: 74798.0469 - val_loss: 72473.3119 - val_mse: 13203989504.0000 - val_mae: 72473.2969\n",
      "Epoch 13/150\n",
      "22500/22500 [==============================] - 0s 21us/sample - loss: 74448.8358 - mse: 14080757760.0000 - mae: 74448.7812 - val_loss: 72132.6337 - val_mse: 13119420416.0000 - val_mae: 72132.6250\n",
      "Epoch 14/150\n",
      "22500/22500 [==============================] - 0s 21us/sample - loss: 74082.0138 - mse: 13948937216.0000 - mae: 74082.0391 - val_loss: 71770.4175 - val_mse: 12998032384.0000 - val_mae: 71770.4219\n",
      "Epoch 15/150\n",
      "22500/22500 [==============================] - 0s 21us/sample - loss: 73686.3792 - mse: 13841657856.0000 - mae: 73686.4062 - val_loss: 71387.8166 - val_mse: 12852935680.0000 - val_mae: 71387.8125\n",
      "Epoch 16/150\n",
      "22500/22500 [==============================] - 0s 21us/sample - loss: 73271.0635 - mse: 13689910272.0000 - mae: 73271.0312 - val_loss: 70972.8122 - val_mse: 12748897280.0000 - val_mae: 70972.8125\n",
      "Epoch 17/150\n",
      "22500/22500 [==============================] - 0s 21us/sample - loss: 72819.9608 - mse: 13531909120.0000 - mae: 72819.9375 - val_loss: 70534.3055 - val_mse: 12706101248.0000 - val_mae: 70534.3047\n",
      "Epoch 18/150\n",
      "22500/22500 [==============================] - 0s 21us/sample - loss: 72325.2276 - mse: 13397250048.0000 - mae: 72325.2188 - val_loss: 70041.2736 - val_mse: 12455720960.0000 - val_mae: 70041.2812\n",
      "Epoch 19/150\n",
      "22500/22500 [==============================] - 1s 22us/sample - loss: 71792.4682 - mse: 13214512128.0000 - mae: 71792.4531 - val_loss: 69503.7174 - val_mse: 12317720576.0000 - val_mae: 69503.7188\n",
      "Epoch 20/150\n",
      "22500/22500 [==============================] - 1s 23us/sample - loss: 71182.2471 - mse: 13026012160.0000 - mae: 71182.2422 - val_loss: 68900.0636 - val_mse: 12125212672.0000 - val_mae: 68900.0625\n",
      "Epoch 21/150\n",
      "22500/22500 [==============================] - 0s 22us/sample - loss: 70511.1293 - mse: 12818277376.0000 - mae: 70511.1016 - val_loss: 68225.6667 - val_mse: 11947001856.0000 - val_mae: 68225.6719\n",
      "Epoch 22/150\n",
      "22500/22500 [==============================] - 0s 21us/sample - loss: 69758.4997 - mse: 12590138368.0000 - mae: 69758.5469 - val_loss: 67470.6063 - val_mse: 11725533184.0000 - val_mae: 67470.6016\n",
      "Epoch 23/150\n",
      "22500/22500 [==============================] - 1s 24us/sample - loss: 68921.9050 - mse: 12327749632.0000 - mae: 68921.8984 - val_loss: 66638.9672 - val_mse: 11434425344.0000 - val_mae: 66638.9766\n",
      "Epoch 24/150\n",
      "22500/22500 [==============================] - 1s 23us/sample - loss: 67992.4654 - mse: 12004530176.0000 - mae: 67992.4531 - val_loss: 65718.1640 - val_mse: 11201805312.0000 - val_mae: 65718.1719\n",
      "Epoch 25/150\n",
      "22500/22500 [==============================] - 1s 23us/sample - loss: 66958.3525 - mse: 11718028288.0000 - mae: 66958.3438 - val_loss: 64721.4229 - val_mse: 10769710080.0000 - val_mae: 64721.4375\n",
      "Epoch 26/150\n",
      "22500/22500 [==============================] - 1s 23us/sample - loss: 65822.0010 - mse: 11356563456.0000 - mae: 65822.0078 - val_loss: 63590.3432 - val_mse: 10390582272.0000 - val_mae: 63590.3477\n",
      "Epoch 27/150\n",
      "22500/22500 [==============================] - 1s 23us/sample - loss: 64526.3885 - mse: 10925385728.0000 - mae: 64526.3750 - val_loss: 62266.4723 - val_mse: 10067635200.0000 - val_mae: 62266.4766\n",
      "Epoch 28/150\n",
      "22500/22500 [==============================] - 1s 23us/sample - loss: 63101.2450 - mse: 10476610560.0000 - mae: 63101.2305 - val_loss: 60885.4565 - val_mse: 9658492928.0000 - val_mae: 60885.4453\n",
      "Epoch 29/150\n",
      "22500/22500 [==============================] - 1s 23us/sample - loss: 61627.1922 - mse: 10010499072.0000 - mae: 61627.1797 - val_loss: 59491.6355 - val_mse: 9329525760.0000 - val_mae: 59491.6406\n",
      "Epoch 30/150\n",
      "22500/22500 [==============================] - 1s 23us/sample - loss: 60127.1416 - mse: 9528535040.0000 - mae: 60127.1523 - val_loss: 58097.6177 - val_mse: 8834895872.0000 - val_mae: 58097.6250\n",
      "Epoch 31/150\n",
      "22500/22500 [==============================] - 1s 23us/sample - loss: 58643.0323 - mse: 9039856640.0000 - mae: 58643.0508 - val_loss: 56775.8788 - val_mse: 8373073920.0000 - val_mae: 56775.8789\n",
      "Epoch 32/150\n",
      "22500/22500 [==============================] - 1s 24us/sample - loss: 57213.6563 - mse: 8562052096.0000 - mae: 57213.6562 - val_loss: 55503.8802 - val_mse: 7971097600.0000 - val_mae: 55503.8906\n",
      "Epoch 33/150\n",
      "22500/22500 [==============================] - 1s 23us/sample - loss: 55884.6654 - mse: 8113526784.0000 - mae: 55884.6641 - val_loss: 54287.8376 - val_mse: 7637099008.0000 - val_mae: 54287.8281\n",
      "Epoch 34/150\n",
      "22500/22500 [==============================] - 1s 24us/sample - loss: 54614.6869 - mse: 7693590528.0000 - mae: 54614.6523 - val_loss: 53188.0128 - val_mse: 7378682880.0000 - val_mae: 53188.0117\n",
      "Epoch 35/150\n",
      "22500/22500 [==============================] - 1s 23us/sample - loss: 53458.6161 - mse: 7320968704.0000 - mae: 53458.6367 - val_loss: 52068.1096 - val_mse: 6910392320.0000 - val_mae: 52068.1055\n",
      "Epoch 36/150\n",
      "22500/22500 [==============================] - 0s 22us/sample - loss: 52371.4208 - mse: 6974176768.0000 - mae: 52371.4102 - val_loss: 51145.7399 - val_mse: 6527823872.0000 - val_mae: 51145.7266\n",
      "Epoch 37/150\n",
      "22500/22500 [==============================] - 0s 22us/sample - loss: 51417.2022 - mse: 6657432576.0000 - mae: 51417.2148 - val_loss: 50251.7694 - val_mse: 6379771904.0000 - val_mae: 50251.7578\n",
      "Epoch 38/150\n",
      "22500/22500 [==============================] - 1s 22us/sample - loss: 50524.2632 - mse: 6394325504.0000 - mae: 50524.2734 - val_loss: 49489.4361 - val_mse: 6005178368.0000 - val_mae: 49489.4375\n",
      "Epoch 39/150\n",
      "22500/22500 [==============================] - 1s 24us/sample - loss: 49684.7659 - mse: 6139254784.0000 - mae: 49684.7695 - val_loss: 48659.7284 - val_mse: 5846130688.0000 - val_mae: 48659.7305\n",
      "Epoch 40/150\n",
      "22500/22500 [==============================] - 1s 23us/sample - loss: 48926.2751 - mse: 5928863232.0000 - mae: 48926.2539 - val_loss: 47987.5713 - val_mse: 5631578112.0000 - val_mae: 47987.5703\n",
      "Epoch 41/150\n",
      "22500/22500 [==============================] - 1s 24us/sample - loss: 48278.0044 - mse: 5724866048.0000 - mae: 48278.0000 - val_loss: 47337.0257 - val_mse: 5560980992.0000 - val_mae: 47337.0234\n",
      "Epoch 42/150\n",
      "22500/22500 [==============================] - 1s 27us/sample - loss: 47681.6708 - mse: 5577449984.0000 - mae: 47681.6602 - val_loss: 46755.3859 - val_mse: 5304755200.0000 - val_mae: 46755.3867\n",
      "Epoch 43/150\n",
      "22500/22500 [==============================] - 0s 22us/sample - loss: 47085.6174 - mse: 5410340352.0000 - mae: 47085.6133 - val_loss: 46122.0241 - val_mse: 5228322816.0000 - val_mae: 46122.0195\n",
      "Epoch 44/150\n",
      "22500/22500 [==============================] - 1s 22us/sample - loss: 46559.5007 - mse: 5274919936.0000 - mae: 46559.4922 - val_loss: 45684.8700 - val_mse: 5017376256.0000 - val_mae: 45684.8711\n",
      "Epoch 45/150\n",
      "22500/22500 [==============================] - 1s 22us/sample - loss: 46095.7348 - mse: 5148916224.0000 - mae: 46095.7305 - val_loss: 45154.9141 - val_mse: 4999024128.0000 - val_mae: 45154.9258\n",
      "Epoch 46/150\n",
      "22500/22500 [==============================] - 1s 23us/sample - loss: 45671.6549 - mse: 5050752000.0000 - mae: 45671.6445 - val_loss: 44758.3293 - val_mse: 4887427584.0000 - val_mae: 44758.3203\n",
      "Epoch 47/150\n",
      "22500/22500 [==============================] - 0s 22us/sample - loss: 45319.3244 - mse: 4951797760.0000 - mae: 45319.3008 - val_loss: 44410.9053 - val_mse: 4832147456.0000 - val_mae: 44410.9102\n",
      "Epoch 48/150\n",
      "22500/22500 [==============================] - 0s 22us/sample - loss: 45006.0568 - mse: 4877151744.0000 - mae: 45006.0469 - val_loss: 44103.0342 - val_mse: 4690368000.0000 - val_mae: 44103.0234\n",
      "Epoch 49/150\n",
      "22500/22500 [==============================] - 0s 22us/sample - loss: 44730.9678 - mse: 4807364096.0000 - mae: 44730.9570 - val_loss: 43802.2950 - val_mse: 4654409728.0000 - val_mae: 43802.3008\n",
      "Epoch 50/150\n",
      "22500/22500 [==============================] - 1s 22us/sample - loss: 44468.4731 - mse: 4750438912.0000 - mae: 44468.4648 - val_loss: 43525.0990 - val_mse: 4596432384.0000 - val_mae: 43525.1094\n",
      "Epoch 51/150\n",
      "22500/22500 [==============================] - 0s 22us/sample - loss: 44229.5361 - mse: 4691019776.0000 - mae: 44229.5508 - val_loss: 43283.7409 - val_mse: 4524070400.0000 - val_mae: 43283.7422\n",
      "Epoch 52/150\n",
      "22500/22500 [==============================] - 1s 23us/sample - loss: 44005.0134 - mse: 4641678336.0000 - mae: 44005.0117 - val_loss: 43048.2356 - val_mse: 4490520064.0000 - val_mae: 43048.2266\n",
      "Epoch 53/150\n",
      "22500/22500 [==============================] - 1s 23us/sample - loss: 43786.6135 - mse: 4593767424.0000 - mae: 43786.5938 - val_loss: 42837.9125 - val_mse: 4479705600.0000 - val_mae: 42837.9062\n",
      "Epoch 54/150\n",
      "22500/22500 [==============================] - 1s 23us/sample - loss: 43587.4177 - mse: 4556120064.0000 - mae: 43587.4219 - val_loss: 42659.9392 - val_mse: 4386173952.0000 - val_mae: 42659.9414\n",
      "Epoch 55/150\n",
      "22500/22500 [==============================] - 1s 23us/sample - loss: 43411.4979 - mse: 4523396096.0000 - mae: 43411.5000 - val_loss: 42511.1951 - val_mse: 4320824832.0000 - val_mae: 42511.2031\n",
      "Epoch 56/150\n",
      "22500/22500 [==============================] - 1s 24us/sample - loss: 43220.8161 - mse: 4482720256.0000 - mae: 43220.8281 - val_loss: 42266.8025 - val_mse: 4324335104.0000 - val_mae: 42266.8047\n",
      "Epoch 57/150\n",
      "22500/22500 [==============================] - 1s 24us/sample - loss: 43038.1339 - mse: 4453493760.0000 - mae: 43038.1094 - val_loss: 42088.7466 - val_mse: 4275390208.0000 - val_mae: 42088.7422\n",
      "Epoch 58/150\n",
      "22500/22500 [==============================] - 1s 22us/sample - loss: 42848.8351 - mse: 4416551936.0000 - mae: 42848.8203 - val_loss: 41897.0301 - val_mse: 4273245696.0000 - val_mae: 41897.0352\n",
      "Epoch 59/150\n",
      "22500/22500 [==============================] - 1s 22us/sample - loss: 42671.9715 - mse: 4396581888.0000 - mae: 42671.9648 - val_loss: 41741.5703 - val_mse: 4250612480.0000 - val_mae: 41741.5742\n",
      "Epoch 60/150\n",
      "22500/22500 [==============================] - 1s 23us/sample - loss: 42508.7468 - mse: 4368475136.0000 - mae: 42508.7383 - val_loss: 41592.8018 - val_mse: 4178867456.0000 - val_mae: 41592.8047\n",
      "Epoch 61/150\n",
      "22500/22500 [==============================] - 1s 23us/sample - loss: 42352.5785 - mse: 4338924544.0000 - mae: 42352.5820 - val_loss: 41433.3633 - val_mse: 4175555328.0000 - val_mae: 41433.3633\n",
      "Epoch 62/150\n",
      "22500/22500 [==============================] - 1s 22us/sample - loss: 42201.1304 - mse: 4317962240.0000 - mae: 42201.1211 - val_loss: 41300.1772 - val_mse: 4123894528.0000 - val_mae: 41300.1758\n",
      "Epoch 63/150\n",
      "22500/22500 [==============================] - 1s 23us/sample - loss: 42050.5234 - mse: 4291968768.0000 - mae: 42050.5195 - val_loss: 41146.8693 - val_mse: 4142421504.0000 - val_mae: 41146.8594\n",
      "Epoch 64/150\n",
      "22500/22500 [==============================] - 0s 21us/sample - loss: 41922.2054 - mse: 4266036736.0000 - mae: 41922.1875 - val_loss: 40997.4037 - val_mse: 4088408064.0000 - val_mae: 40997.3945\n",
      "Epoch 65/150\n",
      "22500/22500 [==============================] - 0s 21us/sample - loss: 41787.1534 - mse: 4251321088.0000 - mae: 41787.1445 - val_loss: 40864.7934 - val_mse: 4089185792.0000 - val_mae: 40864.7969\n",
      "Epoch 66/150\n",
      "22500/22500 [==============================] - 0s 21us/sample - loss: 41643.1923 - mse: 4226779904.0000 - mae: 41643.2031 - val_loss: 40817.0261 - val_mse: 3989436416.0000 - val_mae: 40817.0312\n",
      "Epoch 67/150\n",
      "22500/22500 [==============================] - 0s 21us/sample - loss: 41521.7854 - mse: 4204070912.0000 - mae: 41521.7852 - val_loss: 40583.6489 - val_mse: 4035428864.0000 - val_mae: 40583.6445\n",
      "Epoch 68/150\n",
      "22500/22500 [==============================] - 1s 23us/sample - loss: 41393.2608 - mse: 4186165248.0000 - mae: 41393.2539 - val_loss: 40465.2315 - val_mse: 3988697344.0000 - val_mae: 40465.2227\n",
      "Epoch 69/150\n",
      "22500/22500 [==============================] - 1s 23us/sample - loss: 41260.8638 - mse: 4169345536.0000 - mae: 41260.8711 - val_loss: 40343.9336 - val_mse: 3954815232.0000 - val_mae: 40343.9258\n",
      "Epoch 70/150\n",
      "22500/22500 [==============================] - 1s 24us/sample - loss: 41135.2661 - mse: 4148325376.0000 - mae: 41135.2891 - val_loss: 40202.9931 - val_mse: 3950637568.0000 - val_mae: 40202.9961\n",
      "Epoch 71/150\n",
      "22500/22500 [==============================] - 1s 24us/sample - loss: 41008.3524 - mse: 4134380288.0000 - mae: 41008.3711 - val_loss: 40108.5231 - val_mse: 3907621632.0000 - val_mae: 40108.5195\n",
      "Epoch 72/150\n",
      "22500/22500 [==============================] - 1s 23us/sample - loss: 40890.8533 - mse: 4112494848.0000 - mae: 40890.8477 - val_loss: 39959.1476 - val_mse: 3955450880.0000 - val_mae: 39959.1406\n",
      "Epoch 73/150\n",
      "22500/22500 [==============================] - 1s 23us/sample - loss: 40763.4795 - mse: 4093304320.0000 - mae: 40763.4961 - val_loss: 39825.8843 - val_mse: 3900575232.0000 - val_mae: 39825.8867\n",
      "Epoch 74/150\n",
      "22500/22500 [==============================] - 1s 23us/sample - loss: 40652.2172 - mse: 4083535872.0000 - mae: 40652.2070 - val_loss: 39705.9048 - val_mse: 3906614016.0000 - val_mae: 39705.9062\n",
      "Epoch 75/150\n",
      "22500/22500 [==============================] - 1s 23us/sample - loss: 40536.7539 - mse: 4065140992.0000 - mae: 40536.7539 - val_loss: 39646.5528 - val_mse: 3831885824.0000 - val_mae: 39646.5586\n",
      "Epoch 76/150\n",
      "22500/22500 [==============================] - 1s 23us/sample - loss: 40418.9418 - mse: 4044483840.0000 - mae: 40418.9453 - val_loss: 39476.8462 - val_mse: 3853729024.0000 - val_mae: 39476.8477\n",
      "Epoch 77/150\n",
      "22500/22500 [==============================] - 1s 23us/sample - loss: 40307.1964 - mse: 4030886400.0000 - mae: 40307.1797 - val_loss: 39369.9247 - val_mse: 3831068416.0000 - val_mae: 39369.9219\n",
      "Epoch 78/150\n",
      "22500/22500 [==============================] - 1s 23us/sample - loss: 40195.5232 - mse: 4017251072.0000 - mae: 40195.5508 - val_loss: 39269.2356 - val_mse: 3849739008.0000 - val_mae: 39269.2383\n",
      "Epoch 79/150\n",
      "22500/22500 [==============================] - 1s 23us/sample - loss: 40095.5381 - mse: 4000074240.0000 - mae: 40095.5586 - val_loss: 39172.0383 - val_mse: 3839898368.0000 - val_mae: 39172.0352\n"
     ]
    },
    {
     "name": "stdout",
     "output_type": "stream",
     "text": [
      "Epoch 80/150\n",
      "22500/22500 [==============================] - 1s 23us/sample - loss: 39979.8324 - mse: 3985397504.0000 - mae: 39979.8242 - val_loss: 39067.9680 - val_mse: 3825130752.0000 - val_mae: 39067.9805\n",
      "Epoch 81/150\n",
      "22500/22500 [==============================] - 1s 23us/sample - loss: 39872.7166 - mse: 3972692992.0000 - mae: 39872.7227 - val_loss: 38952.9096 - val_mse: 3796532992.0000 - val_mae: 38952.9102\n",
      "Epoch 82/150\n",
      "22500/22500 [==============================] - 1s 23us/sample - loss: 39773.5402 - mse: 3956632832.0000 - mae: 39773.5469 - val_loss: 38838.7714 - val_mse: 3752886528.0000 - val_mae: 38838.7695\n",
      "Epoch 83/150\n",
      "22500/22500 [==============================] - 1s 23us/sample - loss: 39662.3341 - mse: 3944484096.0000 - mae: 39662.3086 - val_loss: 38740.0517 - val_mse: 3745512704.0000 - val_mae: 38740.0508\n",
      "Epoch 84/150\n",
      "22500/22500 [==============================] - 1s 23us/sample - loss: 39574.4874 - mse: 3929842176.0000 - mae: 39574.5039 - val_loss: 38664.8621 - val_mse: 3770704384.0000 - val_mae: 38664.8594\n",
      "Epoch 85/150\n",
      "22500/22500 [==============================] - 1s 23us/sample - loss: 39460.3624 - mse: 3920456192.0000 - mae: 39460.3633 - val_loss: 38559.0265 - val_mse: 3693199616.0000 - val_mae: 38559.0273\n",
      "Epoch 86/150\n",
      "22500/22500 [==============================] - 1s 24us/sample - loss: 39376.2969 - mse: 3904618240.0000 - mae: 39376.2852 - val_loss: 38449.7626 - val_mse: 3694402560.0000 - val_mae: 38449.7578\n",
      "Epoch 87/150\n",
      "22500/22500 [==============================] - 1s 23us/sample - loss: 39267.1374 - mse: 3891141120.0000 - mae: 39267.1523 - val_loss: 38354.2937 - val_mse: 3691300352.0000 - val_mae: 38354.2852\n",
      "Epoch 88/150\n",
      "22500/22500 [==============================] - 1s 23us/sample - loss: 39173.5075 - mse: 3878112000.0000 - mae: 39173.4883 - val_loss: 38258.7888 - val_mse: 3684067072.0000 - val_mae: 38258.7773\n",
      "Epoch 89/150\n",
      "22500/22500 [==============================] - 1s 23us/sample - loss: 39065.6344 - mse: 3863883008.0000 - mae: 39065.6328 - val_loss: 38166.5695 - val_mse: 3671934976.0000 - val_mae: 38166.5703\n",
      "Epoch 90/150\n",
      "22500/22500 [==============================] - 1s 23us/sample - loss: 38979.2791 - mse: 3856695296.0000 - mae: 38979.2734 - val_loss: 38113.9269 - val_mse: 3627915264.0000 - val_mae: 38113.9219\n",
      "Epoch 91/150\n",
      "22500/22500 [==============================] - 1s 24us/sample - loss: 38883.8190 - mse: 3841051904.0000 - mae: 38883.8125 - val_loss: 38071.9240 - val_mse: 3593652736.0000 - val_mae: 38071.9180\n",
      "Epoch 92/150\n",
      "22500/22500 [==============================] - 1s 24us/sample - loss: 38800.2146 - mse: 3826674944.0000 - mae: 38800.1953 - val_loss: 37916.1912 - val_mse: 3622270976.0000 - val_mae: 37916.1875\n",
      "Epoch 93/150\n",
      "22500/22500 [==============================] - 1s 24us/sample - loss: 38711.8509 - mse: 3813145088.0000 - mae: 38711.8516 - val_loss: 37831.3645 - val_mse: 3637072640.0000 - val_mae: 37831.3633\n",
      "Epoch 94/150\n",
      "22500/22500 [==============================] - 1s 24us/sample - loss: 38644.4920 - mse: 3808668928.0000 - mae: 38644.4961 - val_loss: 37741.2799 - val_mse: 3600059136.0000 - val_mae: 37741.2695\n",
      "Epoch 95/150\n",
      "22500/22500 [==============================] - 1s 24us/sample - loss: 38532.8382 - mse: 3791380480.0000 - mae: 38532.8594 - val_loss: 37711.4309 - val_mse: 3643310336.0000 - val_mae: 37711.4375\n",
      "Epoch 96/150\n",
      "22500/22500 [==============================] - 1s 24us/sample - loss: 38476.6747 - mse: 3789950976.0000 - mae: 38476.6680 - val_loss: 37579.6160 - val_mse: 3572766720.0000 - val_mae: 37579.6133\n",
      "Epoch 97/150\n",
      "22500/22500 [==============================] - 1s 24us/sample - loss: 38373.8453 - mse: 3773839872.0000 - mae: 38373.8438 - val_loss: 37614.3472 - val_mse: 3534275328.0000 - val_mae: 37614.3477\n",
      "Epoch 98/150\n",
      "22500/22500 [==============================] - 1s 23us/sample - loss: 38302.8992 - mse: 3764392192.0000 - mae: 38302.8906 - val_loss: 37419.0868 - val_mse: 3580109056.0000 - val_mae: 37419.0859\n",
      "Epoch 99/150\n",
      "22500/22500 [==============================] - 1s 24us/sample - loss: 38213.7468 - mse: 3750950400.0000 - mae: 38213.7539 - val_loss: 37343.7270 - val_mse: 3569700608.0000 - val_mae: 37343.7344\n",
      "Epoch 100/150\n",
      "22500/22500 [==============================] - 1s 25us/sample - loss: 38146.2469 - mse: 3738141952.0000 - mae: 38146.2383 - val_loss: 37275.5481 - val_mse: 3526912768.0000 - val_mae: 37275.5469\n",
      "Epoch 101/150\n",
      "22500/22500 [==============================] - 1s 27us/sample - loss: 38062.7341 - mse: 3727012352.0000 - mae: 38062.7266 - val_loss: 37188.0231 - val_mse: 3527566336.0000 - val_mae: 37188.0234\n",
      "Epoch 102/150\n",
      "22500/22500 [==============================] - 1s 25us/sample - loss: 37987.1576 - mse: 3718286592.0000 - mae: 37987.1719 - val_loss: 37119.1603 - val_mse: 3536577024.0000 - val_mae: 37119.1680\n",
      "Epoch 103/150\n",
      "22500/22500 [==============================] - 1s 26us/sample - loss: 37906.3010 - mse: 3711324928.0000 - mae: 37906.2969 - val_loss: 37043.2894 - val_mse: 3509999104.0000 - val_mae: 37043.2930\n",
      "Epoch 104/150\n",
      "22500/22500 [==============================] - 1s 25us/sample - loss: 37838.9886 - mse: 3697949696.0000 - mae: 37838.9922 - val_loss: 37016.0136 - val_mse: 3542158336.0000 - val_mae: 37016.0156\n",
      "Epoch 105/150\n",
      "22500/22500 [==============================] - 1s 25us/sample - loss: 37772.4222 - mse: 3689210624.0000 - mae: 37772.4180 - val_loss: 36926.7807 - val_mse: 3479339264.0000 - val_mae: 36926.7852\n",
      "Epoch 106/150\n",
      "22500/22500 [==============================] - 1s 25us/sample - loss: 37688.1044 - mse: 3681501952.0000 - mae: 37688.0938 - val_loss: 36870.9600 - val_mse: 3451228416.0000 - val_mae: 36870.9570\n",
      "Epoch 107/150\n",
      "22500/22500 [==============================] - 1s 23us/sample - loss: 37621.0558 - mse: 3669176832.0000 - mae: 37621.0625 - val_loss: 36801.6579 - val_mse: 3448021248.0000 - val_mae: 36801.6680\n",
      "Epoch 108/150\n",
      "22500/22500 [==============================] - 0s 22us/sample - loss: 37547.0645 - mse: 3659259648.0000 - mae: 37547.0664 - val_loss: 36753.0194 - val_mse: 3434685440.0000 - val_mae: 36753.0156\n",
      "Epoch 109/150\n",
      "22500/22500 [==============================] - 1s 24us/sample - loss: 37497.6819 - mse: 3653100544.0000 - mae: 37497.6875 - val_loss: 36735.9851 - val_mse: 3416974848.0000 - val_mae: 36735.9844\n",
      "Epoch 110/150\n",
      "22500/22500 [==============================] - 0s 22us/sample - loss: 37433.2166 - mse: 3644392448.0000 - mae: 37433.2031 - val_loss: 36634.4199 - val_mse: 3423654144.0000 - val_mae: 36634.4180\n",
      "Epoch 111/150\n",
      "22500/22500 [==============================] - 1s 23us/sample - loss: 37361.2145 - mse: 3635444480.0000 - mae: 37361.2109 - val_loss: 36661.9457 - val_mse: 3393042432.0000 - val_mae: 36661.9492\n",
      "Epoch 112/150\n",
      "22500/22500 [==============================] - 1s 22us/sample - loss: 37306.3671 - mse: 3622952448.0000 - mae: 37306.3750 - val_loss: 36493.6500 - val_mse: 3418798080.0000 - val_mae: 36493.6523\n",
      "Epoch 113/150\n",
      "22500/22500 [==============================] - 0s 22us/sample - loss: 37240.1976 - mse: 3620145664.0000 - mae: 37240.1992 - val_loss: 36426.2766 - val_mse: 3440659200.0000 - val_mae: 36426.2734\n",
      "Epoch 114/150\n",
      "22500/22500 [==============================] - 1s 23us/sample - loss: 37178.5874 - mse: 3607533056.0000 - mae: 37178.5859 - val_loss: 36415.9892 - val_mse: 3465445888.0000 - val_mae: 36415.9961\n",
      "Epoch 115/150\n",
      "22500/22500 [==============================] - 0s 22us/sample - loss: 37135.1017 - mse: 3603833344.0000 - mae: 37135.1055 - val_loss: 36357.2177 - val_mse: 3388199424.0000 - val_mae: 36357.2188\n",
      "Epoch 116/150\n",
      "22500/22500 [==============================] - 0s 22us/sample - loss: 37067.1111 - mse: 3594947328.0000 - mae: 37067.1172 - val_loss: 36269.2243 - val_mse: 3392522752.0000 - val_mae: 36269.2266\n",
      "Epoch 117/150\n",
      "22500/22500 [==============================] - 0s 22us/sample - loss: 37010.5781 - mse: 3586265600.0000 - mae: 37010.6016 - val_loss: 36221.0795 - val_mse: 3420922880.0000 - val_mae: 36221.0664\n",
      "Epoch 118/150\n",
      "22500/22500 [==============================] - 0s 22us/sample - loss: 36966.7178 - mse: 3584372480.0000 - mae: 36966.7031 - val_loss: 36158.2067 - val_mse: 3398468608.0000 - val_mae: 36158.1953\n",
      "Epoch 119/150\n",
      "22500/22500 [==============================] - 0s 22us/sample - loss: 36897.7208 - mse: 3574695680.0000 - mae: 36897.7227 - val_loss: 36176.7012 - val_mse: 3350442496.0000 - val_mae: 36176.7070\n",
      "Epoch 120/150\n",
      "22500/22500 [==============================] - 0s 22us/sample - loss: 36853.6860 - mse: 3565079296.0000 - mae: 36853.6680 - val_loss: 36073.8785 - val_mse: 3394545920.0000 - val_mae: 36073.8789\n",
      "Epoch 121/150\n",
      "22500/22500 [==============================] - 0s 22us/sample - loss: 36788.6596 - mse: 3557993728.0000 - mae: 36788.6719 - val_loss: 36019.3670 - val_mse: 3378788864.0000 - val_mae: 36019.3594\n",
      "Epoch 122/150\n",
      "22500/22500 [==============================] - 0s 21us/sample - loss: 36743.4378 - mse: 3554302464.0000 - mae: 36743.4570 - val_loss: 35989.6848 - val_mse: 3390721280.0000 - val_mae: 35989.6797\n",
      "Epoch 123/150\n",
      "22500/22500 [==============================] - 0s 22us/sample - loss: 36699.9999 - mse: 3547701248.0000 - mae: 36700.0078 - val_loss: 35926.0009 - val_mse: 3353839616.0000 - val_mae: 35926.0000\n",
      "Epoch 124/150\n",
      "22500/22500 [==============================] - 0s 21us/sample - loss: 36643.6363 - mse: 3536396544.0000 - mae: 36643.6406 - val_loss: 35911.2816 - val_mse: 3378708992.0000 - val_mae: 35911.2773\n",
      "Epoch 125/150\n",
      "22500/22500 [==============================] - 0s 21us/sample - loss: 36592.7813 - mse: 3532125440.0000 - mae: 36592.7891 - val_loss: 35838.0538 - val_mse: 3341312768.0000 - val_mae: 35838.0508\n",
      "Epoch 126/150\n",
      "22500/22500 [==============================] - 0s 22us/sample - loss: 36548.5026 - mse: 3525820672.0000 - mae: 36548.5195 - val_loss: 35903.2494 - val_mse: 3299145472.0000 - val_mae: 35903.2578\n",
      "Epoch 127/150\n",
      "22500/22500 [==============================] - 0s 22us/sample - loss: 36499.7749 - mse: 3516385280.0000 - mae: 36499.7695 - val_loss: 35755.4191 - val_mse: 3326074880.0000 - val_mae: 35755.4219\n",
      "Epoch 128/150\n",
      "22500/22500 [==============================] - 0s 21us/sample - loss: 36460.4576 - mse: 3512370176.0000 - mae: 36460.4570 - val_loss: 35725.8181 - val_mse: 3311024128.0000 - val_mae: 35725.8164\n",
      "Epoch 129/150\n",
      "22500/22500 [==============================] - 1s 25us/sample - loss: 36422.7384 - mse: 3511900928.0000 - mae: 36422.7344 - val_loss: 35693.7956 - val_mse: 3345462528.0000 - val_mae: 35693.7969\n",
      "Epoch 130/150\n",
      "22500/22500 [==============================] - 1s 22us/sample - loss: 36357.6034 - mse: 3499095296.0000 - mae: 36357.6133 - val_loss: 35631.9600 - val_mse: 3309351680.0000 - val_mae: 35631.9648\n",
      "Epoch 131/150\n",
      "22500/22500 [==============================] - 1s 26us/sample - loss: 36313.1754 - mse: 3496181248.0000 - mae: 36313.2031 - val_loss: 35622.3482 - val_mse: 3329763328.0000 - val_mae: 35622.3477\n",
      "Epoch 132/150\n",
      "22500/22500 [==============================] - 1s 23us/sample - loss: 36275.8732 - mse: 3485474560.0000 - mae: 36275.8594 - val_loss: 35567.2123 - val_mse: 3291346688.0000 - val_mae: 35567.2109\n",
      "Epoch 133/150\n",
      "22500/22500 [==============================] - 1s 23us/sample - loss: 36237.7263 - mse: 3485643008.0000 - mae: 36237.7266 - val_loss: 35523.8393 - val_mse: 3300301824.0000 - val_mae: 35523.8359\n",
      "Epoch 134/150\n",
      "22500/22500 [==============================] - 0s 22us/sample - loss: 36198.8022 - mse: 3479661056.0000 - mae: 36198.8125 - val_loss: 35513.9137 - val_mse: 3317533440.0000 - val_mae: 35513.9141\n",
      "Epoch 135/150\n",
      "22500/22500 [==============================] - 1s 22us/sample - loss: 36151.5922 - mse: 3474922752.0000 - mae: 36151.5703 - val_loss: 35445.4829 - val_mse: 3274869760.0000 - val_mae: 35445.4883\n",
      "Epoch 136/150\n",
      "22500/22500 [==============================] - 0s 22us/sample - loss: 36119.8399 - mse: 3465266432.0000 - mae: 36119.8359 - val_loss: 35416.3360 - val_mse: 3267461632.0000 - val_mae: 35416.3320\n",
      "Epoch 137/150\n",
      "22500/22500 [==============================] - 1s 25us/sample - loss: 36068.1145 - mse: 3458384896.0000 - mae: 36068.0977 - val_loss: 35382.4100 - val_mse: 3289795072.0000 - val_mae: 35382.4102\n",
      "Epoch 138/150\n",
      "22500/22500 [==============================] - 1s 24us/sample - loss: 36042.0179 - mse: 3460985344.0000 - mae: 36042.0234 - val_loss: 35397.0083 - val_mse: 3235021824.0000 - val_mae: 35397.0078\n",
      "Epoch 139/150\n",
      "22500/22500 [==============================] - 1s 29us/sample - loss: 35998.9397 - mse: 3447601664.0000 - mae: 35998.9531 - val_loss: 35304.7493 - val_mse: 3269704192.0000 - val_mae: 35304.7422\n",
      "Epoch 140/150\n",
      "22500/22500 [==============================] - 0s 22us/sample - loss: 35973.8041 - mse: 3450384384.0000 - mae: 35973.7969 - val_loss: 35344.6470 - val_mse: 3224657664.0000 - val_mae: 35344.6562\n",
      "Epoch 141/150\n",
      "22500/22500 [==============================] - 0s 22us/sample - loss: 35935.7703 - mse: 3439546368.0000 - mae: 35935.7617 - val_loss: 35251.2167 - val_mse: 3275194880.0000 - val_mae: 35251.2109\n",
      "Epoch 142/150\n",
      "22500/22500 [==============================] - 1s 23us/sample - loss: 35895.6951 - mse: 3438355712.0000 - mae: 35895.7031 - val_loss: 35200.7339 - val_mse: 3242611200.0000 - val_mae: 35200.7305\n",
      "Epoch 143/150\n",
      "22500/22500 [==============================] - 0s 22us/sample - loss: 35865.6651 - mse: 3430721792.0000 - mae: 35865.6367 - val_loss: 35213.9394 - val_mse: 3218002688.0000 - val_mae: 35213.9375\n",
      "Epoch 144/150\n",
      "22500/22500 [==============================] - 0s 22us/sample - loss: 35835.0052 - mse: 3428174336.0000 - mae: 35835.0039 - val_loss: 35140.7002 - val_mse: 3238313728.0000 - val_mae: 35140.6992\n",
      "Epoch 145/150\n",
      "22500/22500 [==============================] - 0s 22us/sample - loss: 35799.6307 - mse: 3420244736.0000 - mae: 35799.6211 - val_loss: 35112.1173 - val_mse: 3227090432.0000 - val_mae: 35112.1250\n",
      "Epoch 146/150\n",
      "22500/22500 [==============================] - 0s 21us/sample - loss: 35776.8530 - mse: 3418984448.0000 - mae: 35776.8359 - val_loss: 35085.2249 - val_mse: 3214425600.0000 - val_mae: 35085.2305\n",
      "Epoch 147/150\n",
      "22500/22500 [==============================] - 0s 21us/sample - loss: 35729.3129 - mse: 3412849664.0000 - mae: 35729.3281 - val_loss: 35070.8604 - val_mse: 3243683840.0000 - val_mae: 35070.8555\n",
      "Epoch 148/150\n",
      "22500/22500 [==============================] - 0s 21us/sample - loss: 35703.3118 - mse: 3410777088.0000 - mae: 35703.3164 - val_loss: 35022.4827 - val_mse: 3220700928.0000 - val_mae: 35022.4883\n",
      "Epoch 149/150\n",
      "22500/22500 [==============================] - 0s 22us/sample - loss: 35670.3989 - mse: 3408049920.0000 - mae: 35670.4219 - val_loss: 35026.2400 - val_mse: 3188513280.0000 - val_mae: 35026.2461\n",
      "Epoch 150/150\n",
      "22500/22500 [==============================] - 1s 23us/sample - loss: 35653.4066 - mse: 3396667392.0000 - mae: 35653.3945 - val_loss: 34963.0852 - val_mse: 3216089344.0000 - val_mae: 34963.0820\n"
     ]
    }
   ],
   "source": [
    "#do not change, 26 / 27 mae\n",
    "# Set random seed\n",
    "np.random.seed(0)\n",
    "#callbacks = [EarlyStopping(monitor='val_loss',min_delta=0,patience=5, verbose=0, mode='auto')] #if the validation loss does not decrease throughout three batches, stop the network\n",
    "model = Sequential()\n",
    "model.add(Flatten())\n",
    "model.add(Dense(30, input_dim=313, kernel_initializer='normal', activation='relu'))\n",
    "model.add(Dense(10, activation='relu'))\n",
    "model.add(Dense(1))\n",
    "\n",
    "model.compile(loss='mae', optimizer='adam', metrics=['mse','mae'])\n",
    "history = model.fit(x_train, y_train, epochs=150, batch_size=50,  verbose=1, validation_split=0.2)\n",
    "\n",
    "#batch size=1 means it will only take one sample for each iteration, so we will need 21242 iterations in each of the 150 epochs\n",
    "#therefore, if we decrease the batch size, we should decrease the number of epochs to improve time consumption\n",
    "#find a balance\n",
    "#e.g. if we set batch size to 500, we only need 2 iterations for each epoch : it will be very fast"
   ]
  },
  {
   "cell_type": "code",
   "execution_count": 13,
   "metadata": {},
   "outputs": [
    {
     "name": "stdout",
     "output_type": "stream",
     "text": [
      "dict_keys(['loss', 'mse', 'mae', 'val_loss', 'val_mse', 'val_mae'])\n"
     ]
    },
    {
     "data": {
      "image/png": "[encoded data removed]",
      "text/plain": [
       "<Figure size 432x288 with 1 Axes>"
      ]
     },
     "metadata": {
      "needs_background": "light"
     },
     "output_type": "display_data"
    }
   ],
   "source": [
    "print(history.history.keys())\n",
    "# \"Loss\"\n",
    "plt.plot(history.history['loss'])\n",
    "plt.plot(history.history['val_loss'])\n",
    "plt.title('model loss')\n",
    "plt.ylabel('loss')\n",
    "plt.xlabel('epoch')\n",
    "plt.legend(['train', 'validation'], loc='upper left')\n",
    "plt.show()"
   ]
  },
  {
   "cell_type": "code",
   "execution_count": 14,
   "metadata": {},
   "outputs": [
    {
     "data": {
      "text/plain": [
       "[<matplotlib.lines.Line2D at 0x1f801a2aa90>]"
      ]
     },
     "execution_count": 14,
     "metadata": {},
     "output_type": "execute_result"
    },
    {
     "data": {
      "image/png": "[encoded data removed]",
      "text/plain": [
       "<Figure size 432x288 with 1 Axes>"
      ]
     },
     "metadata": {
      "needs_background": "light"
     },
     "output_type": "display_data"
    }
   ],
   "source": [
    "plt.xlabel('Epoch Number')\n",
    "plt.ylabel(\"Loss Magnitude\")\n",
    "plt.plot(history.history['loss'])"
   ]
  },
  {
   "cell_type": "code",
   "execution_count": 15,
   "metadata": {},
   "outputs": [],
   "source": [
    "pred= model.predict(x_test)\n",
    "list_predictions = [item for sublist in pred for item in sublist]\n",
    "test['Predicciones'] = list_predictions"
   ]
  },
  {
   "cell_type": "code",
   "execution_count": 16,
   "metadata": {},
   "outputs": [
    {
     "data": {
      "text/plain": [
       "0.22"
      ]
     },
     "execution_count": 16,
     "metadata": {},
     "output_type": "execute_result"
    }
   ],
   "source": [
    "round(test.loc[:,['IMPTOTAL','Predicciones']].apply(lambda s: abs(s[0]-s[1])/s[0], axis=1).mean(),2)   #0.22 do not scale IMPTOTAL if you need the normal value"
   ]
  },
  {
   "cell_type": "code",
   "execution_count": 17,
   "metadata": {},
   "outputs": [
    {
     "name": "stdout",
     "output_type": "stream",
     "text": [
      "28125/28125 [==============================] - 0s 16us/sample - loss: 35469.0502 - mse: 3367405568.0000 - mae: 35469.0508\n",
      "13853/13853 [==============================] - 0s 16us/sample - loss: 36906.4734 - mse: 3622256384.0000 - mae: 36906.4727\n"
     ]
    }
   ],
   "source": [
    "train_mse = model.evaluate(x_train, y_train)  #0.24    if you want a normal value you need to scale IMPTOTAL\n",
    "test_mse = model.evaluate(x_test, y_test) #0.27"
   ]
  },
  {
   "cell_type": "markdown",
   "metadata": {},
   "source": [
    "### Predict new values"
   ]
  },
  {
   "cell_type": "code",
   "execution_count": 18,
   "metadata": {},
   "outputs": [],
   "source": [
    "pred= model.predict(x_test)\n",
    "list_predictions = [item for sublist in pred for item in sublist]\n",
    "test['Predicciones'] = list_predictions"
   ]
  },
  {
   "cell_type": "markdown",
   "metadata": {},
   "source": [
    "### Individual predictions"
   ]
  },
  {
   "cell_type": "code",
   "execution_count": 19,
   "metadata": {},
   "outputs": [
    {
     "data": {
      "text/plain": [
       "array([[89531.984]], dtype=float32)"
      ]
     },
     "execution_count": 19,
     "metadata": {},
     "output_type": "execute_result"
    }
   ],
   "source": [
    "#INDIVIDUAL PREDICTIONS\n",
    "prediction = model.predict(x_test[:1])\n",
    "prediction"
   ]
  },
  {
   "cell_type": "code",
   "execution_count": 20,
   "metadata": {},
   "outputs": [
    {
     "data": {
      "text/html": [
       "<div>\n",
       "<style scoped>\n",
       "    .dataframe tbody tr th:only-of-type {\n",
       "        vertical-align: middle;\n",
       "    }\n",
       "\n",
       "    .dataframe tbody tr th {\n",
       "        vertical-align: top;\n",
       "    }\n",
       "\n",
       "    .dataframe thead th {\n",
       "        text-align: right;\n",
       "    }\n",
       "</style>\n",
       "<table border=\"1\" class=\"dataframe\">\n",
       "  <thead>\n",
       "    <tr style=\"text-align: right;\">\n",
       "      <th></th>\n",
       "      <th>IMPTOTAL</th>\n",
       "      <th>Predicciones</th>\n",
       "    </tr>\n",
       "  </thead>\n",
       "  <tbody>\n",
       "    <tr>\n",
       "      <th>8398</th>\n",
       "      <td>169856.360</td>\n",
       "      <td>89531.984</td>\n",
       "    </tr>\n",
       "    <tr>\n",
       "      <th>23149</th>\n",
       "      <td>126501.090</td>\n",
       "      <td>146450.672</td>\n",
       "    </tr>\n",
       "    <tr>\n",
       "      <th>32939</th>\n",
       "      <td>103701.870</td>\n",
       "      <td>122722.742</td>\n",
       "    </tr>\n",
       "    <tr>\n",
       "      <th>22511</th>\n",
       "      <td>90214.580</td>\n",
       "      <td>85858.062</td>\n",
       "    </tr>\n",
       "    <tr>\n",
       "      <th>10204</th>\n",
       "      <td>69750.000</td>\n",
       "      <td>75927.875</td>\n",
       "    </tr>\n",
       "  </tbody>\n",
       "</table>\n",
       "</div>"
      ],
      "text/plain": [
       "        IMPTOTAL  Predicciones\n",
       "8398  169856.360     89531.984\n",
       "23149 126501.090    146450.672\n",
       "32939 103701.870    122722.742\n",
       "22511  90214.580     85858.062\n",
       "10204  69750.000     75927.875"
      ]
     },
     "execution_count": 20,
     "metadata": {},
     "output_type": "execute_result"
    }
   ],
   "source": [
    "test[:5].loc[:,['IMPTOTAL', 'Predicciones']]"
   ]
  }
 ],
 "metadata": {
  "kernelspec": {
   "display_name": "Python 3",
   "language": "python",
   "name": "python3"
  },
  "language_info": {
   "codemirror_mode": {
    "name": "ipython",
    "version": 3
   },
   "file_extension": ".py",
   "mimetype": "text/x-python",
   "name": "python",
   "nbconvert_exporter": "python",
   "pygments_lexer": "ipython3",
   "version": "3.7.0"
  }
 },
 "nbformat": 4,
 "nbformat_minor": 2
}
