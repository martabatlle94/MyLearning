{
 "cells": [
  {
   "cell_type": "code",
   "execution_count": null,
   "metadata": {},
   "outputs": [],
   "source": [
    "#BASIC\n",
    "\n",
    "CREATE TABLE new AS\n",
    "select \n",
    "t1.id, \n",
    "t2.id as matches_id,\n",
    "t1.team_long_name\n",
    "FROM teams_spain t1\n",
    "INNER JOIN matches_spain t2 on (t1.id=t2.id);"
   ]
  },
  {
   "cell_type": "code",
   "execution_count": null,
   "metadata": {},
   "outputs": [],
   "source": [
    "#JOIN\n",
    "\n",
    "SELECT teams_spain.id as teams_id, matches_spain.id as matches_id\n",
    "FROM teams_spain\n",
    "INNER JOIN matches_spain ON teams_spain.id=matches_spain.id;"
   ]
  },
  {
   "cell_type": "code",
   "execution_count": null,
   "metadata": {},
   "outputs": [],
   "source": [
    "#REPLACE\n",
    "\n",
    "UPDATE table name\n",
    "SET column= 'cas'\n",
    "WHERE column= 'cas.'"
   ]
  },
  {
   "cell_type": "code",
   "execution_count": null,
   "metadata": {},
   "outputs": [],
   "source": [
    "#COUNT WITH CONDITION\n",
    "SELECT COUNT(column)\n",
    "FROM table\n",
    "WHERE column<10;"
   ]
  },
  {
   "cell_type": "code",
   "execution_count": null,
   "metadata": {},
   "outputs": [],
   "source": [
    "#DISTINCT AND COUNT \n",
    "SELECT DISTINCT column1, column2, ...\n",
    "FROM table_name;\n",
    "\n",
    "SELECT COUNT(DISTINCT Country) FROM Customers;"
   ]
  },
  {
   "cell_type": "code",
   "execution_count": null,
   "metadata": {},
   "outputs": [],
   "source": [
    "#GROUP BY AND ORDER BY\n",
    "SELECT column_name(s)\n",
    "FROM table_name\n",
    "WHERE condition\n",
    "GROUP BY column_name(s)\n",
    "ORDER BY column_name(s);"
   ]
  },
  {
   "cell_type": "code",
   "execution_count": null,
   "metadata": {},
   "outputs": [],
   "source": [
    "# AVG, SUM, MIN, MAX\n",
    "SELECT AVG(column_name)\n",
    "FROM table_name\n",
    "WHERE condition;\n",
    "\n",
    "SELECT SUM(column_name)\n",
    "FROM table_name\n",
    "WHERE condition;\n",
    "\n",
    "SELECT MIN(column_name)\n",
    "FROM table_name\n",
    "WHERE condition;"
   ]
  },
  {
   "cell_type": "code",
   "execution_count": null,
   "metadata": {},
   "outputs": [],
   "source": [
    "#CONDITIONS\n",
    "CREATE TABLE name_table distribute by hash(idd_2017) as\n",
    "select\n",
    "idd,\n",
    "n_lloc\n",
    "from table\n",
    "where n_lloc_cat_2017 in ('Gestió activa') AND (n_lloc_cat_anterior not in ('Gestió activa') or n_lloc_cat_anterior is null);\n",
    "\n",
    "\n",
    "\n",
    "SELECT * FROM Customers\n",
    "WHERE Country='Germany' AND (City='Berlin' OR City='München');"
   ]
  },
  {
   "cell_type": "code",
   "execution_count": null,
   "metadata": {},
   "outputs": [],
   "source": [
    "#AND\n",
    "\n",
    "SELECT * FROM Customers\n",
    "WHERE Country='Germany' AND City='Berlin';"
   ]
  },
  {
   "cell_type": "code",
   "execution_count": null,
   "metadata": {},
   "outputs": [],
   "source": [
    "#OR\n",
    "\n",
    "SELECT * FROM Customers\n",
    "WHERE City='Berlin' OR City='München';"
   ]
  },
  {
   "cell_type": "code",
   "execution_count": null,
   "metadata": {},
   "outputs": [],
   "source": [
    "#NOT\n",
    "\n",
    "SELECT * FROM Customers\n",
    "WHERE NOT Country='Germany';\n",
    "\n",
    "\n",
    "SELECT * FROM Customers\n",
    "WHERE NOT Country='Germany' AND NOT Country='USA';"
   ]
  },
  {
   "cell_type": "code",
   "execution_count": null,
   "metadata": {},
   "outputs": [],
   "source": [
    "-- Select matches where Barcelona was the away team\n",
    "SELECT  \n",
    "\tm.date,\n",
    "\tt.team_long_name AS opponent,\n",
    "\tCASE WHEN m.home_goal > m.away_goal THEN 'Barcelona win!'\n",
    "        WHEN m.home_goal < m.away_goal THEN 'Barcelona loss :(' \n",
    "        ELSE 'Tie' END AS outcome\n",
    "FROM matches_spain AS m\n",
    "-- Join teams_spain to matches_spain\n",
    "LEFT JOIN teams_spain AS t \n",
    "ON m.hometeam_id = t.team_api_id\n",
    "WHERE m.awayteam_id = 8634;"
   ]
  },
  {
   "cell_type": "code",
   "execution_count": null,
   "metadata": {},
   "outputs": [],
   "source": [
    "SELECT \n",
    "\tdate,\n",
    "\t-- Identify the home team as Barcelona or Real Madrid\n",
    "\tcase when hometeam_id = 8634 THEN 'FC Barcelona' \n",
    "        else 'Real Madrid CF' END AS home,\n",
    "    -- Identify the away team as Barcelona or Real Madrid\n",
    "\tcase when awayteam_id = 8634 THEN 'FC Barcelona' \n",
    "        else 'Real Madrid CF' END AS away\n",
    "FROM matches_spain\n",
    "WHERE (awayteam_id = 8634 OR hometeam_id = 8634)\n",
    "      AND (awayteam_id = 8633 OR hometeam_id = 8633);"
   ]
  },
  {
   "cell_type": "code",
   "execution_count": null,
   "metadata": {},
   "outputs": [],
   "source": [
    "# CASE WHEN FILTERING NULLS\n",
    "\n",
    "-- Select the season, date, home_goal, and away_goal columns\n",
    "SELECT \n",
    "\tseason,\n",
    "\tdate,\n",
    "\thome_goal,\n",
    "\taway_goal\n",
    "FROM matches_italy\n",
    "WHERE\n",
    "-- Exclude games not won by Bologna\n",
    "\tCASE WHEN hometeam_id = 9857 AND home_goal > away_goal THEN 'Bologna Win'\n",
    "         WHEN awayteam_id = 9857 AND away_goal > home_goal THEN 'Bologna Win' \n",
    "         END IS NOT NULL;"
   ]
  },
  {
   "cell_type": "markdown",
   "metadata": {},
   "source": [
    "### Group by and count using case when\n",
    "\n"
   ]
  },
  {
   "cell_type": "code",
   "execution_count": null,
   "metadata": {},
   "outputs": [],
   "source": [
    "SELECT \n",
    "\tc.name AS country,\n",
    "    -- Count matches in each of the 3 seasons\n",
    "\tCOUNT(CASE WHEN m.season = '2012/2013' THEN m.id END) AS matches_2012_2013,\n",
    "\tCOUNT(CASE WHEN m.season = '2013/2014' THEN m.id END) AS matches_2013_2014,\n",
    "\tCOUNT(CASE WHEN m.season = '2014/2015' THEN m.id END) AS matches_2014_2015\n",
    "FROM country AS c\n",
    "LEFT JOIN match AS m\n",
    "ON c.id = m.country_id\n",
    "-- Group by country name alias\n",
    "GROUP BY c.name;"
   ]
  },
  {
   "cell_type": "markdown",
   "metadata": {},
   "source": [
    "### Sum the number of id that match the condition and group by country"
   ]
  },
  {
   "cell_type": "code",
   "execution_count": null,
   "metadata": {},
   "outputs": [],
   "source": [
    "SELECT \n",
    "\tc.name AS country,\n",
    "    -- Sum the total records in each season where the home team won\n",
    "\tSUM(CASE WHEN m.season = '2012/2013' AND m.home_goal > m.away_goal \n",
    "        THEN 1 ELSE 0 END) AS matches_2012_2013,\n",
    " \tSUM(CASE WHEN m.season = '2013/2014' AND m.home_goal > m.away_goal  \n",
    "        THEN 1 ELSE 0 END) AS matches_2013_2014,\n",
    "\tSUM(CASE WHEN m.season = '2014/2015' AND m.home_goal > m.away_goal \n",
    "        THEN 1 ELSE 0 END) AS matches_2014_2015\n",
    "FROM country AS c\n",
    "LEFT JOIN match AS m\n",
    "ON c.id = m.country_id\n",
    "-- Group by country name alias\n",
    "GROUP BY c.name;"
   ]
  },
  {
   "cell_type": "markdown",
   "metadata": {},
   "source": [
    "### AVG  "
   ]
  },
  {
   "cell_type": "code",
   "execution_count": null,
   "metadata": {},
   "outputs": [],
   "source": [
    "# COUNT THE NUMBER OF HOME WINS, AWAY WINS AND TIES IN EACH COUNTRY\n",
    "\n",
    "SELECT \n",
    "    c.name AS country,\n",
    "    -- Count the home wins, away wins, and ties in each country\n",
    "\tCOUNT(case when m.home_goal > m.away_goal THEN m.id \n",
    "        END) AS home_wins,\n",
    "\tCOUNT(case when m.home_goal < m.away_goal THEN m.id \n",
    "        END) AS away_wins,\n",
    "\tCOUNT(case when m.home_goal = m.away_goal THEN m.id \n",
    "        END) AS ties\n",
    "FROM country AS c\n",
    "LEFT JOIN matches AS m\n",
    "ON c.id = m.country_id\n",
    "GROUP BY country;"
   ]
  },
  {
   "cell_type": "code",
   "execution_count": null,
   "metadata": {},
   "outputs": [],
   "source": [
    "# COUNT THE AVERAGE OF TIMES THEY TIED\n",
    "\n",
    "SELECT \n",
    "\tc.name AS country,\n",
    "    -- Calculate the percentage of tied games in each season\n",
    "\tAVG(CASE WHEN m.season='2013/2014' AND m.home_goal = m.away_goal THEN 1\n",
    "\t\t\tWHEN m.season='2013/2014' AND m.home_goal != m.away_goal THEN 0\n",
    "\t\t\tEND) AS ties_2013_2014,\n",
    "\tAVG(CASE WHEN m.season='2014/2015' AND m.home_goal = m.away_goal THEN 1\n",
    "\t\t\tWHEN m.season='2014/2015' AND m.home_goal != m.away_goal THEN 0\n",
    "\t\t\tEND) AS ties_2014_2015\n",
    "FROM country AS c\n",
    "LEFT JOIN matches AS m\n",
    "ON c.id = m.country_id\n",
    "GROUP BY country;"
   ]
  },
  {
   "cell_type": "code",
   "execution_count": null,
   "metadata": {},
   "outputs": [],
   "source": [
    "#THE SAME BUT ROUNDING\n",
    "\n",
    "SELECT \n",
    "\tc.name AS country,\n",
    "    -- Round the percentage of tied games to 2 decimal points\n",
    "\tROUND(AVG(CASE WHEN m.season='2013/2014' AND m.home_goal = m.away_goal THEN 1\n",
    "\t\t\t WHEN m.season='2013/2014' AND m.home_goal != m.away_goal THEN 0\n",
    "\t\t\t END),2) AS pct_ties_2013_2014,\n",
    "\tROUND(AVG(CASE WHEN m.season='2014/2015' AND m.home_goal = m.away_goal THEN 1\n",
    "\t\t\t WHEN m.season='2014/2015' AND m.home_goal != m.away_goal THEN 0\n",
    "\t\t\t END),2) AS pct_ties_2014_2015\n",
    "FROM country AS c\n",
    "LEFT JOIN matches AS m\n",
    "ON c.id = m.country_id\n",
    "GROUP BY country;"
   ]
  },
  {
   "cell_type": "code",
   "execution_count": null,
   "metadata": {},
   "outputs": [],
   "source": []
  },
  {
   "cell_type": "code",
   "execution_count": null,
   "metadata": {},
   "outputs": [],
   "source": [
    "#FILTER BY 2 TEAMS AND GROUP BY ALL THE ROWS SO WE CAN COUNT HOW MANY TIMES EACH TEAM APPEARS\n",
    "\n",
    "-- Identify the home team as Bayern Munich, Schalke 04, or neither\n",
    "SELECT \n",
    "\tCASE WHEN hometeam_id = '10189' THEN 'FC Schalke 04'\n",
    "        WHEN hometeam_id = '9823' THEN 'FC Bayern Munich'\n",
    "         ELSE 'Other' END AS home_team,\n",
    "\tCOUNT(id) AS total_matches\n",
    "FROM matches_germany\n",
    "-- Group by the CASE statement alias\n",
    "GROUP BY home_team;"
   ]
  },
  {
   "cell_type": "code",
   "execution_count": null,
   "metadata": {},
   "outputs": [],
   "source": [
    "# JOIN TABLES BY ITSELF IN ORDER TO ELIMINATE DUPLICATES AND CALCULATING PERC GROWTH\n",
    "SELECT p1.country_code,\n",
    "       p1.size AS size2010, \n",
    "       p2.size AS size2015,\n",
    "       -- 1. calculate growth_perc\n",
    "       ((p2.size - p1.size)/p1.size * 100.0) AS growth_perc\n",
    "-- 2. From populations (alias as p1)\n",
    "FROM populations AS p1\n",
    "  -- 3. Join to itself (alias as p2)\n",
    "  INNER JOIN populations AS p2\n",
    "    -- 4. Match on country code\n",
    "    ON p1.country_code = p2.country_code\n",
    "        -- 5. and year (with calculation)\n",
    "        AND p1.year = p2.year - 5;"
   ]
  },
  {
   "cell_type": "code",
   "execution_count": null,
   "metadata": {},
   "outputs": [],
   "source": [
    "# CATEGORISE VARIABLE AND FILTER BY YEAR IN THE SAME SCRIPT\n",
    "\n",
    "SELECT country_code, size, year,\n",
    "    -- 1. First case\n",
    "    CASE WHEN populations.size > 50000000 THEN 'large'\n",
    "        -- 2. Second case\n",
    "        WHEN populations.size > 1000000 THEN 'medium'\n",
    "        -- 3. Else clause + end\n",
    "        ELSE 'small' END\n",
    "        -- 4. Alias name\n",
    "        AS popsize_group\n",
    "-- 5. From table\n",
    "FROM populations\n",
    "-- 6. Focus on 2015\n",
    "WHERE year = 2015;"
   ]
  },
  {
   "cell_type": "code",
   "execution_count": null,
   "metadata": {},
   "outputs": [],
   "source": [
    "#CREATE NEW TABLE WITH ALL QUERIES FROM ANOTHER TABLE, INCLUDING CATEGORISING AND FILTERING\n",
    "\n",
    "SELECT country_code, size,\n",
    "    CASE WHEN size > 50000000 THEN 'large'\n",
    "        WHEN size > 1000000 THEN 'medium'\n",
    "        ELSE 'small' END\n",
    "        AS popsize_group\n",
    "-- 1. Into table\n",
    "INTO pop_plus\n",
    "FROM populations\n",
    "WHERE year = 2015;\n",
    "\n",
    "-- 2. Select all columns of pop_plus\n",
    "SELECT * FROM pop_plus\n",
    "ORDER BY column;"
   ]
  }
 ],
 "metadata": {
  "kernelspec": {
   "display_name": "Python 3",
   "language": "python",
   "name": "python3"
  },
  "language_info": {
   "codemirror_mode": {
    "name": "ipython",
    "version": 3
   },
   "file_extension": ".py",
   "mimetype": "text/x-python",
   "name": "python",
   "nbconvert_exporter": "python",
   "pygments_lexer": "ipython3",
   "version": "3.7.0"
  }
 },
 "nbformat": 4,
 "nbformat_minor": 2
}
