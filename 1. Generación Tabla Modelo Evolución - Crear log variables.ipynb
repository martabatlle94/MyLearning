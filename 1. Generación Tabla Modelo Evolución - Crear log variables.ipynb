{
 "cells": [
  {
   "cell_type": "code",
   "execution_count": 4,
   "metadata": {},
   "outputs": [
    {
     "name": "stdout",
     "output_type": "stream",
     "text": [
      "Using matplotlib backend: Qt5Agg\n",
      "Populating the interactive namespace from numpy and matplotlib\n"
     ]
    }
   ],
   "source": [
    "import requests\n",
    "import time\n",
    "import pprint\n",
    "import pickle\n",
    "import numpy as np\n",
    "import json\n",
    "import pandas as pd\n",
    "import matplotlib.pyplot as plt\n",
    "from collections import Counter\n",
    "from wordcloud import WordCloud\n",
    "import xml.etree.ElementTree as ET\n",
    "import re\n",
    "from unicodedata import normalize\n",
    "from sklearn import linear_model\n",
    "from sklearn.preprocessing import PolynomialFeatures\n",
    "from matplotlib import pyplot\n",
    "import seaborn as sns\n",
    "from sklearn import preprocessing\n",
    "from sklearn.model_selection import train_test_split\n",
    "from pandas_summary import DataFrameSummary\n",
    "%matplotlib\n",
    "%pylab inline\n",
    "pylab.rcParams['figure.figsize'] = (20, 10)"
   ]
  },
  {
   "cell_type": "code",
   "execution_count": 5,
   "metadata": {},
   "outputs": [],
   "source": [
    "tablin = pd.read_csv(r'C:\\Users\\Marta\\Desktop\\Rotación 2 SBD\\BackUp_Proyecto\\Python Scripts\\Modelo evolución precios\\Datos - copia - Marta\\tablin_marta.csv', \n",
    "                   sep=';', engine=\"python\", decimal=',', encoding=\"latin1\")"
   ]
  },
  {
   "cell_type": "code",
   "execution_count": 6,
   "metadata": {},
   "outputs": [],
   "source": [
    "fechas = list(tablin.Fecha.drop_duplicates())\n",
    "dictionary_dates_date_to_num = {}\n",
    "dictionary_dates_num_to_date = {}\n",
    "for date_iter in range(len(fechas)):\n",
    "    dictionary_dates_date_to_num[fechas[date_iter]] = date_iter\n",
    "    dictionary_dates_num_to_date[date_iter] = fechas[date_iter]"
   ]
  },
  {
   "cell_type": "code",
   "execution_count": 7,
   "metadata": {},
   "outputs": [],
   "source": [
    "dictionary_dates_num_to_date[56] = '01/01/2019'\n",
    "dictionary_dates_num_to_date[57] = '01/04/2019'\n",
    "dictionary_dates_num_to_date[58] = '01/07/2019'\n",
    "dictionary_dates_num_to_date[59] = '01/10/2019'\n",
    "dictionary_dates_num_to_date[60] = '01/01/2020'\n",
    "dictionary_dates_num_to_date[61] = '01/04/2020'\n",
    "dictionary_dates_num_to_date[62] = '01/07/2020'\n",
    "dictionary_dates_num_to_date[63] = '01/10/2020'"
   ]
  },
  {
   "cell_type": "code",
   "execution_count": 8,
   "metadata": {},
   "outputs": [],
   "source": [
    "tablin_preds = tablin.copy()"
   ]
  },
  {
   "cell_type": "code",
   "execution_count": 9,
   "metadata": {},
   "outputs": [],
   "source": [
    "#PREPROCESSING\n",
    "#ELIMINATE OUTLIERS\n",
    "\n",
    "tablin_preds= tablin_preds[np.abs(tablin_preds['Transacciones inmobiliarias']-tablin_preds['Transacciones inmobiliarias'].mean()) <= (3*tablin_preds['Transacciones inmobiliarias'].std())] \n",
    "tablin_preds= tablin_preds[np.abs(tablin_preds['Hipotecas']-tablin_preds['Hipotecas'].mean()) <= (3*tablin_preds['Hipotecas'].std())] \n",
    "\n",
    "#LOG TRANSFORMATION\n",
    "tablin_preds['Transacciones_inmobiliarias_log'] = np.log(tablin_preds['Transacciones inmobiliarias']+1)\n",
    "tablin_preds['Hipotecas_log'] = np.log(tablin_preds['Hipotecas'])\n",
    "tablin_preds['Euribor_log'] = np.log(tablin_preds['Euribor']+1)\n",
    "tablin_preds['Parque_viviendas_log'] = np.log(tablin_preds['Parque viviendas'])\n",
    "tablin_preds['Tasa de dudosidad_log'] = np.log(tablin_preds['Tasa de dudosidad'])\n",
    "tablin_preds['PIB per cápita_log'] = np.log(tablin_preds['PIB per cápita'])\n",
    "tablin_preds['Tasa desempleo_log'] = np.log(tablin_preds['Tasa desempleo'])\n",
    "tablin_preds['Valor metro cuadrado_log'] = np.log(tablin_preds['Valor metro cuadrado'])\n",
    "\n"
   ]
  },
  {
   "cell_type": "code",
   "execution_count": 10,
   "metadata": {},
   "outputs": [],
   "source": [
    "#NORMALIZE\n",
    "\n",
    "#tablin_preds[['Tasa de dudosidad', 'Euribor', 'Hipotecas', 'Transacciones inmobiliarias', 'Parque viviendas', 'PIB per cápita', 'Tasa desempleo', 'Valor metro cuadrado']] = preprocessing.normalize(tablin_preds[['Tasa de dudosidad', 'Euribor', 'Hipotecas', 'Transacciones inmobiliarias', 'Parque viviendas', 'PIB per cápita', 'Tasa desempleo', 'Valor metro cuadrado']]) "
   ]
  },
  {
   "cell_type": "code",
   "execution_count": 11,
   "metadata": {},
   "outputs": [
    {
     "data": {
      "text/plain": [
       "Fecha                              0\n",
       "Municipio                          0\n",
       "Provincia                          0\n",
       "valor promedio m2 fomento          0\n",
       "Tasa de dudosidad                  0\n",
       "Euribor                            0\n",
       "Hipotecas                          0\n",
       "Transacciones inmobiliarias        0\n",
       "Parque viviendas                   0\n",
       "PIB per cápita                     0\n",
       "Tasa desempleo                     0\n",
       "Valor metro cuadrado               0\n",
       "Transacciones_inmobiliarias_log    0\n",
       "Hipotecas_log                      0\n",
       "Euribor_log                        0\n",
       "Parque_viviendas_log               0\n",
       "Tasa de dudosidad_log              0\n",
       "PIB per cápita_log                 0\n",
       "Tasa desempleo_log                 0\n",
       "Valor metro cuadrado_log           0\n",
       "dtype: int64"
      ]
     },
     "execution_count": 11,
     "metadata": {},
     "output_type": "execute_result"
    }
   ],
   "source": [
    "tablin_preds.isnull().sum()"
   ]
  },
  {
   "cell_type": "code",
   "execution_count": 12,
   "metadata": {},
   "outputs": [],
   "source": [
    "tablin_preds.to_csv(r'C:\\Users\\Marta\\Desktop\\Rotación 2 SBD\\BackUp_Proyecto\\Python Scripts\\Modelo evolución precios\\Datos - copia - Marta\\tablin_regresion_lineal.csv', \n",
    "                   sep=';', decimal=',', encoding=\"latin1\", index=False)"
   ]
  }
 ],
 "metadata": {
  "kernelspec": {
   "display_name": "Python 3",
   "language": "python",
   "name": "python3"
  },
  "language_info": {
   "codemirror_mode": {
    "name": "ipython",
    "version": 3
   },
   "file_extension": ".py",
   "mimetype": "text/x-python",
   "name": "python",
   "nbconvert_exporter": "python",
   "pygments_lexer": "ipython3",
   "version": "3.7.0"
  }
 },
 "nbformat": 4,
 "nbformat_minor": 2
}
